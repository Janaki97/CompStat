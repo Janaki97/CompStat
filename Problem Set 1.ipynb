{
 "cells": [
  {
   "cell_type": "markdown",
   "metadata": {},
   "source": [
    "# Problem Set 1\n",
    "## Data generating process\n",
    "\n",
    "We assume the general data generating process that fulfills the assumptions of the linear regression model: \n",
    "\n",
    "$$x_{i1}=1, x_{i2}:x_{iP} \\sim \\mathcal{N}(0,1)$$\n",
    "\n",
    "$$y_{i}=\\mathbf{x}_i'\\boldsymbol{\\beta}+\\varepsilon_i$$\n",
    "\n",
    "with $\\boldsymbol{\\beta}=\\left(\\begin{matrix} 1&0.5 &-0.5&-0.5&\\ldots & -0.5&  \\end{matrix}\\right)$ and $\\varepsilon_i \\sim \\mathcal{N}(0,1)$ for all $i$ and (initially) $n=1000$.\n",
    "\n",
    "- Generate the outcome variable using P=2\n",
    "- Estimate the parameter vector using OLS\n",
    "- Calculate standard errors for the parameters"
   ]
  },
  {
   "cell_type": "code",
   "execution_count": null,
   "metadata": {},
   "outputs": [],
   "source": []
  },
  {
   "cell_type": "markdown",
   "metadata": {},
   "source": [
    "## Basic Simulation Study: Consistency "
   ]
  },
  {
   "cell_type": "markdown",
   "metadata": {},
   "source": [
    "With Consistency of $\\hat{\\boldsymbol{\\beta}}$ we mean that \n",
    "\n",
    "$$\\hat{\\boldsymbol{\\beta}}\\overset{p}{\\longrightarrow}\\boldsymbol{\\beta}$$\n"
   ]
  },
  {
   "cell_type": "code",
   "execution_count": null,
   "metadata": {},
   "outputs": [],
   "source": []
  }
 ],
 "metadata": {
  "kernelspec": {
   "display_name": "R",
   "language": "R",
   "name": "ir"
  },
  "language_info": {
   "codemirror_mode": "r",
   "file_extension": ".r",
   "mimetype": "text/x-r-source",
   "name": "R",
   "pygments_lexer": "r",
   "version": "3.6.1"
  }
 },
 "nbformat": 4,
 "nbformat_minor": 4
}
